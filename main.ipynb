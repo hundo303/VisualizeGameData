{
 "cells": [
  {
   "cell_type": "code",
   "execution_count": null,
   "metadata": {
    "collapsed": true
   },
   "outputs": [],
   "source": [
    "%matplotlib inline\n",
    "import matplotlib.pyplot as plt"
   ]
  },
  {
   "cell_type": "code",
   "execution_count": null,
   "outputs": [],
   "source": [
    "cord_list = [(51, 88), (150, 37), (154, 74)]\n",
    "result_list = ['strike', 'ball', 'ball']\n",
    "color_dict = {'strike': 'y', 'ball': 'g'}\n",
    "result_color_list = [color_dict[result] for result in result_list]\n",
    "y_list = [175-cord[0] for cord in cord_list]\n",
    "x_list = [cord[1] for cord in cord_list]\n",
    "x_left = -13\n",
    "x_right = 147\n",
    "y_top = -13\n",
    "y_bottom = 187"
   ],
   "metadata": {
    "collapsed": false,
    "pycharm": {
     "name": "#%%\n"
    }
   }
  },
  {
   "cell_type": "code",
   "execution_count": null,
   "outputs": [],
   "source": [
    "fig = plt.figure()\n",
    "ax = fig.add_subplot(111, xlim=(x_left, x_right), ylim=(y_top, y_bottom))\n",
    "ax.set_aspect(1.276)\n",
    "x_len = (abs(x_left)+abs(x_right))\n",
    "y_len = (abs(y_top)+abs(y_bottom))\n",
    "for i in range(1, 5):\n",
    "    if i == 1 or i == 4:\n",
    "        ax.axvline(x=i/5*x_len+x_left, ymin=1/5, ymax=4/5, c='0.6', lw=3, zorder=9)\n",
    "        ax.axhline(y=i/5*y_len+y_top, xmin=1/5, xmax=4/5, c='0.6', lw=3, zorder=9)\n",
    "    ax.axvline(x=i/5*x_len+x_left, c='0.8', lw=1)\n",
    "    ax.axhline(y=i/5*y_len+y_top, c='0.8', lw=1)\n",
    "ax.scatter(x_list, y_list, s=100*2, zorder=10, c=result_color_list)"
   ],
   "metadata": {
    "collapsed": false,
    "pycharm": {
     "name": "#%%\n"
    }
   }
  },
  {
   "cell_type": "code",
   "execution_count": null,
   "outputs": [],
   "source": [],
   "metadata": {
    "collapsed": false,
    "pycharm": {
     "name": "#%%\n"
    }
   }
  }
 ],
 "metadata": {
  "kernelspec": {
   "display_name": "Python 3",
   "language": "python",
   "name": "python3"
  },
  "language_info": {
   "codemirror_mode": {
    "name": "ipython",
    "version": 2
   },
   "file_extension": ".py",
   "mimetype": "text/x-python",
   "name": "python",
   "nbconvert_exporter": "python",
   "pygments_lexer": "ipython2",
   "version": "2.7.6"
  }
 },
 "nbformat": 4,
 "nbformat_minor": 0
}